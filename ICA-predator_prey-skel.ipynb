{
 "cells": [
  {
   "cell_type": "code",
   "execution_count": 1,
   "metadata": {},
   "outputs": [],
   "source": [
    "%matplotlib inline"
   ]
  },
  {
   "cell_type": "code",
   "execution_count": 2,
   "metadata": {},
   "outputs": [],
   "source": [
    "import matplotlib.pyplot as plt\n",
    "import numpy as np\n",
    "from scipy.integrate import odeint"
   ]
  },
  {
   "cell_type": "markdown",
   "metadata": {},
   "source": [
    "# In class assignment for the predator-prey model\n",
    "\n",
    "## Goal for today's assignment\n",
    "<font color='red'> we probably want to rephrase/update the goals in line with what's written in the intro</font>\n",
    "\n",
    "After finishing the activity, you will\n",
    "- understand and be able to implement the fundamentals of solving ordinary differential equations numerically \n",
    "- be able to use this knowledge and skillset to generally solve for compartmentalized models\n",
    "\n",
    "## Overview of the activity\n",
    "Today, you will\n",
    "- write your own forward Euler to replace ODEint used in initial explorations (20 minutes)\n",
    "- write and conduct simple tests of your forward Euler implementation\n",
    "- re-solve the rumor spreading equations from the intro activity and compare with the solution using ODEint (5 minutes)\n",
    "- implement your chosen model system (20 minutes)\n",
    "- will solve the model system to answer your question  (15 minutes)\n",
    "\n",
    "The time behind the is meant as a guidance. The facilitators will help to keep you on time. <font color='red'> We probably need to talk about timing in order to have sufficient time for the jigsaw and synthesis</font>\n",
    "\n",
    "After you finished the notebook, we will discuss the results together in class.\n"
   ]
  },
  {
   "cell_type": "markdown",
   "metadata": {},
   "source": [
    "## Recap: rumor-spreading model\n",
    "<font color='red'>\n",
    "    \n",
    "- TODO: need to copy info over from intro notebook\n",
    "- Philipp: I just put some placeholders using https://services.math.duke.edu/education/postcalc/ode/ode1.html as reference in order to not duplicate efforts as Adam is writing this part for the intro notebook.\n",
    "    \n",
    "</font>"
   ]
  },
  {
   "cell_type": "code",
   "execution_count": 47,
   "metadata": {},
   "outputs": [],
   "source": [
    "def RHS(state,time):\n",
    "    S = state\n",
    "    return k*S*(M - S)\n",
    "\n",
    "M = 1000# population in school\n",
    "k = .01 # juiciness of rumor\n",
    "time = np.linspace(0,3,100) \n",
    "init_S = np.array([2])\n",
    "\n",
    "\n",
    "y_odeint = odeint(RHS, init_S, time) "
   ]
  },
  {
   "cell_type": "code",
   "execution_count": 48,
   "metadata": {},
   "outputs": [
    {
     "data": {
      "image/png": "[encoded data removed]",
      "text/plain": [
       "<Figure size 432x288 with 1 Axes>"
      ]
     },
     "metadata": {
      "needs_background": "light"
     },
     "output_type": "display_data"
    }
   ],
   "source": [
    "plt.plot(time,y_odeint,label='odeint')\n",
    "plt.xlabel('time')\n",
    "plt.ylabel('S')\n",
    "plt.legend()\n",
    "plt.grid()"
   ]
  },
  {
   "cell_type": "markdown",
   "metadata": {},
   "source": [
    "### Please implement your own forward Euler algorithm in the cell below\n",
    "Make sure that you use the same interface as `odeint` (i.e., the function call with respect to arguments is identical)."
   ]
  },
  {
   "cell_type": "code",
   "execution_count": 28,
   "metadata": {},
   "outputs": [],
   "source": [
    "### YOUR CODE HERE ####\n",
    "# def myodeint..."
   ]
  },
  {
   "cell_type": "markdown",
   "metadata": {},
   "source": [
    "### Solve the rumor spread equation using the same parameters as before but with your own implementation"
   ]
  },
  {
   "cell_type": "code",
   "execution_count": null,
   "metadata": {},
   "outputs": [],
   "source": [
    "M = 1000# population in school\n",
    "k = .01 # juiciness of rumor\n",
    "time = np.linspace(0,3,100) \n",
    "init_S = np.array([2])\n",
    "\n",
    "\n",
    "y_myodeint = myodeint(RHS, init_S, time) "
   ]
  },
  {
   "cell_type": "markdown",
   "metadata": {},
   "source": [
    "### Compare the results between `odeint` and your own implementation in the cell below\n",
    "<font color='red'> We leave the format free and if they ask how, we ask back what options to compare they can think of, e.g., plot both results on one graph, plot the ration between results, just calculate the total deviation with numpy, etc...</font>"
   ]
  },
  {
   "cell_type": "code",
   "execution_count": 52,
   "metadata": {},
   "outputs": [],
   "source": [
    "# your comparison here"
   ]
  },
  {
   "cell_type": "markdown",
   "metadata": {},
   "source": [
    "## Summary of the model (Lotka-Volterra equations)\n",
    "- see https://en.wikipedia.org/wiki/Lotka%E2%80%93Volterra_equations for reference\n",
    "- <font color='red'>TODO: some more text could potentially be copied from the intro notebook or in class presentation material</font>\n",
    "\n",
    "### Equations\n",
    "\n",
    "\\begin{equation}\n",
    "\\frac {dx}{dt} = \\alpha x-\\beta xy  \\\\\n",
    "\\frac {dy}{dt} =\\delta xy-\\gamma y\n",
    "\\end{equation}\n",
    "\n",
    "with\n",
    "- $x$ prey polpulation\n",
    "- $y$ predator population\n",
    "- $\\alpha x$ exponential prey growth\n",
    "- $\\beta x y$ predation rate proportional to the rate at which the predators and the prey meet\n",
    "- $\\delta x y$ predator growth\n",
    "- $\\gamma y$  natural loss rate (exponential decay)\n",
    "\n",
    "### Assumptions\n",
    "\n",
    "- The prey population finds ample food at all times.\n",
    "- The food supply of the predator population depends entirely on the size of the prey population.\n",
    "- The rate of change of population is proportional to its size.\n",
    "- During the process, the environment does not change in favour of one species, and genetic adaptation is inconsequential.\n",
    "- Predators have limitless appetite.\n"
   ]
  },
  {
   "cell_type": "markdown",
   "metadata": {},
   "source": [
    "### Please enter the question(s) you want to investige in this cell:\n",
    "< Question(s) >"
   ]
  },
  {
   "cell_type": "markdown",
   "metadata": {},
   "source": [
    "### Sample model parameters\n",
    "The following parameters should be used as a starting point for your investigation. Remember, even though they are stated as bare numbers, all model parameters and variables carry units!\n",
    "\n",
    "- initial populations: 0.9\n",
    "- $\\alpha = 2/3$\n",
    "- $\\beta = 4/3$\n",
    "- $\\gamma = 1$\n",
    "- $\\delta = 1$\n",
    "- time: linearly spaced between 0 and 20 with steps of 0.2"
   ]
  },
  {
   "cell_type": "code",
   "execution_count": null,
   "metadata": {},
   "outputs": [],
   "source": []
  },
  {
   "cell_type": "markdown",
   "metadata": {},
   "source": [
    "### Implement the right hand sides of the model questions in the cell below:\n",
    "Again, remember to use the same interface as before."
   ]
  },
  {
   "cell_type": "code",
   "execution_count": 22,
   "metadata": {},
   "outputs": [],
   "source": [
    "### YOUR CODE HERE ####\n",
    "# def RHS..."
   ]
  },
  {
   "cell_type": "markdown",
   "metadata": {},
   "source": [
    "### Use the space below to explore your model\n",
    "In other words,\n",
    "- try different parameters \n",
    "- is there an efficient way to reduce repetative code?\n",
    "- think about how you can present/visualize the results\n",
    "\n",
    "### Your model exploration starts here"
   ]
  },
  {
   "cell_type": "code",
   "execution_count": null,
   "metadata": {},
   "outputs": [],
   "source": [
    "### your model exploration\n",
    "### create additional cells as necessary"
   ]
  },
  {
   "cell_type": "markdown",
   "metadata": {},
   "source": [
    "### Your model exploration ends here"
   ]
  },
  {
   "cell_type": "markdown",
   "metadata": {},
   "source": [
    "## Final questions"
   ]
  },
  {
   "cell_type": "markdown",
   "metadata": {},
   "source": [
    "### Answer your own original question below. Support your answer with data."
   ]
  },
  {
   "cell_type": "code",
   "execution_count": 62,
   "metadata": {},
   "outputs": [],
   "source": [
    "### answer here"
   ]
  },
  {
   "cell_type": "markdown",
   "metadata": {},
   "source": [
    "### How does your result (the answer to the question you investigated) depend on the choice of model parameters?"
   ]
  },
  {
   "cell_type": "code",
   "execution_count": 64,
   "metadata": {},
   "outputs": [],
   "source": [
    "### answer here"
   ]
  },
  {
   "cell_type": "markdown",
   "metadata": {},
   "source": [
    "### Demonstrate the robustness of your answer with respect to resolution."
   ]
  },
  {
   "cell_type": "code",
   "execution_count": null,
   "metadata": {},
   "outputs": [],
   "source": [
    "### answer here"
   ]
  },
  {
   "cell_type": "markdown",
   "metadata": {},
   "source": [
    "### If you wanted to explore one of the other models, which parts of your code could you reuse and which would need to be modified?"
   ]
  },
  {
   "cell_type": "code",
   "execution_count": null,
   "metadata": {},
   "outputs": [],
   "source": [
    "### answer here"
   ]
  },
  {
   "cell_type": "code",
   "execution_count": null,
   "metadata": {},
   "outputs": [],
   "source": []
  },
  {
   "cell_type": "markdown",
   "metadata": {},
   "source": [
    "<font color='red'>\n",
    "We also have the following question in the TP:\n",
    "    \n",
    "What numerical parameters are needed to specify the model you chose to \n",
    "explore (for example, the $K_1$, $k_2$, $k_3$ parameters in the \n",
    "         generic 2-compartment model)? \n",
    "\n",
    "However, given that we potentially need to provide sample parameters (see above), we implicitly already answer the question in its current phrasing.\n",
    "</font>\n"
   ]
  },
  {
   "cell_type": "code",
   "execution_count": null,
   "metadata": {},
   "outputs": [],
   "source": []
  }
 ],
 "metadata": {
  "kernelspec": {
   "display_name": "Python 3",
   "language": "python",
   "name": "python3"
  },
  "language_info": {
   "codemirror_mode": {
    "name": "ipython",
    "version": 3
   },
   "file_extension": ".py",
   "mimetype": "text/x-python",
   "name": "python",
   "nbconvert_exporter": "python",
   "pygments_lexer": "ipython3",
   "version": "3.7.0"
  }
 },
 "nbformat": 4,
 "nbformat_minor": 2
}
